{
 "cells": [
  {
   "cell_type": "code",
   "execution_count": 1,
   "outputs": [],
   "source": [
    "import regex as re"
   ],
   "metadata": {
    "collapsed": false,
    "ExecuteTime": {
     "end_time": "2023-12-02T14:20:02.905674800Z",
     "start_time": "2023-12-02T14:20:02.877492200Z"
    }
   },
   "id": "e74ca8a8332d94d0"
  },
  {
   "cell_type": "code",
   "execution_count": 2,
   "id": "initial_id",
   "metadata": {
    "collapsed": true,
    "ExecuteTime": {
     "end_time": "2023-12-02T14:20:02.905674800Z",
     "start_time": "2023-12-02T14:20:02.888038100Z"
    }
   },
   "outputs": [],
   "source": [
    "with open('game_record.txt', 'r') as game_record:\n",
    "    lines = (line for line in (line.rstrip() for line in game_record.readlines()) if line)"
   ]
  },
  {
   "cell_type": "code",
   "execution_count": 3,
   "outputs": [],
   "source": [
    "game_number_pattern = r'Game\\s(?P<game_number>[0-9]{1,3}):\\s'\n",
    "color_draw_pattern = r'\\s?(?P<value>[0-9]{1,2})\\s(?P<color>(blue|red|green))(,|;)?'\n",
    "\n",
    "max_red_cubes = 12\n",
    "max_green_cubes = 13\n",
    "max_blue_cubes = 14\n",
    "\n",
    "possible_games = []"
   ],
   "metadata": {
    "collapsed": false,
    "ExecuteTime": {
     "end_time": "2023-12-02T14:20:02.905674800Z",
     "start_time": "2023-12-02T14:20:02.890989300Z"
    }
   },
   "id": "e57d14e57c9b7dde"
  },
  {
   "cell_type": "code",
   "execution_count": 4,
   "outputs": [],
   "source": [
    "for line in lines:\n",
    "    draw_possible = True\n",
    "    game_number = re.search(game_number_pattern, line)['game_number']\n",
    "    line = re.sub(game_number_pattern, '', line)\n",
    "    draws = re.findall(color_draw_pattern, line)\n",
    "    \n",
    "    for draw in draws:\n",
    "        match draw[1]:\n",
    "            case \"blue\":\n",
    "                if int(draw[0]) > max_blue_cubes:\n",
    "                    draw_possible = False\n",
    "            case \"red\":\n",
    "                if int(draw[0]) > max_red_cubes:\n",
    "                    draw_possible = False\n",
    "            case \"green\":\n",
    "                if int(draw[0]) > max_green_cubes:\n",
    "                    draw_possible = False\n",
    "    \n",
    "    if draw_possible:\n",
    "        possible_games.append(int(game_number))\n",
    "    "
   ],
   "metadata": {
    "collapsed": false,
    "ExecuteTime": {
     "end_time": "2023-12-02T14:20:02.914727500Z",
     "start_time": "2023-12-02T14:20:02.899168Z"
    }
   },
   "id": "28536a73a523916e"
  },
  {
   "cell_type": "code",
   "execution_count": 5,
   "outputs": [
    {
     "name": "stdout",
     "output_type": "stream",
     "text": [
      "2348\n"
     ]
    }
   ],
   "source": [
    "print(sum(possible_games))"
   ],
   "metadata": {
    "collapsed": false,
    "ExecuteTime": {
     "end_time": "2023-12-02T14:20:02.915730800Z",
     "start_time": "2023-12-02T14:20:02.909362600Z"
    }
   },
   "id": "d1e6b39e6fdab089"
  }
 ],
 "metadata": {
  "kernelspec": {
   "display_name": "Python 3",
   "language": "python",
   "name": "python3"
  },
  "language_info": {
   "codemirror_mode": {
    "name": "ipython",
    "version": 2
   },
   "file_extension": ".py",
   "mimetype": "text/x-python",
   "name": "python",
   "nbconvert_exporter": "python",
   "pygments_lexer": "ipython2",
   "version": "2.7.6"
  }
 },
 "nbformat": 4,
 "nbformat_minor": 5
}
