{
 "cells": [
  {
   "cell_type": "code",
   "execution_count": 1,
   "outputs": [],
   "source": [
    "import regex as re"
   ],
   "metadata": {
    "collapsed": false,
    "ExecuteTime": {
     "end_time": "2023-12-03T08:57:41.740152100Z",
     "start_time": "2023-12-03T08:57:41.731713600Z"
    }
   },
   "id": "e74ca8a8332d94d0"
  },
  {
   "cell_type": "code",
   "execution_count": 2,
   "id": "initial_id",
   "metadata": {
    "collapsed": true,
    "ExecuteTime": {
     "end_time": "2023-12-03T08:57:41.749187300Z",
     "start_time": "2023-12-03T08:57:41.741156500Z"
    }
   },
   "outputs": [],
   "source": [
    "with open('game_record.txt', 'r') as game_record:\n",
    "    lines = (line for line in (line.rstrip() for line in game_record.readlines()) if line)"
   ]
  },
  {
   "cell_type": "code",
   "execution_count": 3,
   "outputs": [],
   "source": [
    "game_number_pattern = r'Game\\s(?P<game_number>[0-9]{1,3}):\\s'\n",
    "color_draw_pattern = r'\\s?(?P<value>[0-9]{1,2})\\s(?P<color>(blue|red|green))(,|;)?'\n",
    "\n",
    "max_red_cubes = 12\n",
    "max_green_cubes = 13\n",
    "max_blue_cubes = 14\n",
    "\n",
    "set_powers = []"
   ],
   "metadata": {
    "collapsed": false,
    "ExecuteTime": {
     "end_time": "2023-12-03T08:57:41.752434300Z",
     "start_time": "2023-12-03T08:57:41.749926700Z"
    }
   },
   "id": "e57d14e57c9b7dde"
  },
  {
   "cell_type": "code",
   "execution_count": 4,
   "outputs": [],
   "source": [
    "for line in lines:\n",
    "    power = None\n",
    "    lowest_red = 0\n",
    "    lowest_green = 0\n",
    "    lowest_blue = 0\n",
    "    \n",
    "    draw_possible = True\n",
    "    game_number = re.search(game_number_pattern, line)['game_number']\n",
    "    line = re.sub(game_number_pattern, '', line)\n",
    "    draws = re.findall(color_draw_pattern, line)\n",
    "    \n",
    "    for draw in draws:\n",
    "        match draw[1]:\n",
    "            case \"red\":\n",
    "                if int(draw[0]) > int(lowest_red):\n",
    "                    lowest_red = int(draw[0])\n",
    "            case \"green\":\n",
    "                if int(draw[0]) > int(lowest_green):\n",
    "                    lowest_green = int(draw[0])\n",
    "            case \"blue\":\n",
    "                if int(draw[0]) > int(lowest_blue):\n",
    "                    lowest_blue = int(draw[0])\n",
    "    \n",
    "    set_powers.append(lowest_red * lowest_green * lowest_blue)\n",
    "    \n",
    "    "
   ],
   "metadata": {
    "collapsed": false,
    "ExecuteTime": {
     "end_time": "2023-12-03T08:57:41.760737800Z",
     "start_time": "2023-12-03T08:57:41.751434300Z"
    }
   },
   "id": "28536a73a523916e"
  },
  {
   "cell_type": "code",
   "execution_count": 5,
   "outputs": [
    {
     "name": "stdout",
     "output_type": "stream",
     "text": [
      "76008\n"
     ]
    }
   ],
   "source": [
    "print(sum(set_powers))"
   ],
   "metadata": {
    "collapsed": false,
    "ExecuteTime": {
     "end_time": "2023-12-03T08:57:41.768903500Z",
     "start_time": "2023-12-03T08:57:41.760737800Z"
    }
   },
   "id": "7424fbeb52d9436d"
  }
 ],
 "metadata": {
  "kernelspec": {
   "display_name": "Python 3",
   "language": "python",
   "name": "python3"
  },
  "language_info": {
   "codemirror_mode": {
    "name": "ipython",
    "version": 2
   },
   "file_extension": ".py",
   "mimetype": "text/x-python",
   "name": "python",
   "nbconvert_exporter": "python",
   "pygments_lexer": "ipython2",
   "version": "2.7.6"
  }
 },
 "nbformat": 4,
 "nbformat_minor": 5
}
