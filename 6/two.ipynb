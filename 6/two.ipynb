{
 "cells": [
  {
   "cell_type": "code",
   "execution_count": 16,
   "outputs": [],
   "source": [
    "import regex as re"
   ],
   "metadata": {
    "collapsed": false,
    "ExecuteTime": {
     "end_time": "2023-12-06T09:49:51.792752Z",
     "start_time": "2023-12-06T09:49:51.780547Z"
    }
   },
   "id": "478f92aac49b4578"
  },
  {
   "cell_type": "code",
   "execution_count": 17,
   "id": "initial_id",
   "metadata": {
    "collapsed": true,
    "ExecuteTime": {
     "end_time": "2023-12-06T09:49:51.792953Z",
     "start_time": "2023-12-06T09:49:51.783923Z"
    }
   },
   "outputs": [],
   "source": [
    "with open('races.txt', 'r') as race_times:\n",
    "    lines = (line for line in (line.rstrip() for line in race_times.readlines()) if line)"
   ]
  },
  {
   "cell_type": "code",
   "execution_count": 18,
   "outputs": [
    {
     "name": "stdout",
     "output_type": "stream",
     "text": [
      "20048741\n"
     ]
    }
   ],
   "source": [
    "time = int(''.join(map(str, list(int(num) for num in re.findall(r'\\d+', next(lines))))))\n",
    "distance_record = int(''.join(map(str, list(int(num) for num in re.findall(r'\\d+', next(lines))))))\n",
    "\n",
    "wins = []\n",
    "for time_pressed in range(0, time):\n",
    "    distance = time_pressed * (time - time_pressed)\n",
    "    if distance > distance_record:\n",
    "        wins.append(time_pressed)\n",
    "print(len(wins))\n"
   ],
   "metadata": {
    "collapsed": false,
    "ExecuteTime": {
     "end_time": "2023-12-06T09:49:55.179469Z",
     "start_time": "2023-12-06T09:49:51.789424Z"
    }
   },
   "id": "f25fd2f76243b5db"
  }
 ],
 "metadata": {
  "kernelspec": {
   "display_name": "Python 3",
   "language": "python",
   "name": "python3"
  },
  "language_info": {
   "codemirror_mode": {
    "name": "ipython",
    "version": 2
   },
   "file_extension": ".py",
   "mimetype": "text/x-python",
   "name": "python",
   "nbconvert_exporter": "python",
   "pygments_lexer": "ipython2",
   "version": "2.7.6"
  }
 },
 "nbformat": 4,
 "nbformat_minor": 5
}
