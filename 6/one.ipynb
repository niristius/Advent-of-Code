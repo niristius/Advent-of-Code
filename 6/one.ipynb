{
 "cells": [
  {
   "cell_type": "code",
   "execution_count": 31,
   "outputs": [],
   "source": [
    "import regex as re\n",
    "import operator\n",
    "import functools"
   ],
   "metadata": {
    "collapsed": false,
    "ExecuteTime": {
     "end_time": "2023-12-06T09:34:58.927027Z",
     "start_time": "2023-12-06T09:34:58.913627Z"
    }
   },
   "id": "478f92aac49b4578"
  },
  {
   "cell_type": "code",
   "execution_count": 32,
   "id": "initial_id",
   "metadata": {
    "collapsed": true,
    "ExecuteTime": {
     "end_time": "2023-12-06T09:34:58.927295Z",
     "start_time": "2023-12-06T09:34:58.920221Z"
    }
   },
   "outputs": [],
   "source": [
    "with open('races.txt', 'r') as race_times:\n",
    "    lines = (line for line in (line.rstrip() for line in race_times.readlines()) if line)"
   ]
  },
  {
   "cell_type": "code",
   "execution_count": 33,
   "outputs": [
    {
     "name": "stdout",
     "output_type": "stream",
     "text": [
      "633080\n"
     ]
    }
   ],
   "source": [
    "times = list(int(num) for num in re.findall(r'\\d+', next(lines)))\n",
    "distances = list(int(num) for num in re.findall(r'\\d+', next(lines)))\n",
    "\n",
    "amount_wins = []\n",
    "for i in range(0, len(times)):\n",
    "    wins = []\n",
    "    for time_pressed in range(0, times[i]):\n",
    "        distance = time_pressed * (times[i] - time_pressed)\n",
    "        if distance > distances[i]:\n",
    "            wins.append(time_pressed)\n",
    "    amount_wins.append(len(wins))\n",
    "\n",
    "print(functools.reduce(operator.mul, amount_wins, 1))"
   ],
   "metadata": {
    "collapsed": false,
    "ExecuteTime": {
     "end_time": "2023-12-06T09:34:58.931345Z",
     "start_time": "2023-12-06T09:34:58.925455Z"
    }
   },
   "id": "f25fd2f76243b5db"
  }
 ],
 "metadata": {
  "kernelspec": {
   "display_name": "Python 3",
   "language": "python",
   "name": "python3"
  },
  "language_info": {
   "codemirror_mode": {
    "name": "ipython",
    "version": 2
   },
   "file_extension": ".py",
   "mimetype": "text/x-python",
   "name": "python",
   "nbconvert_exporter": "python",
   "pygments_lexer": "ipython2",
   "version": "2.7.6"
  }
 },
 "nbformat": 4,
 "nbformat_minor": 5
}
