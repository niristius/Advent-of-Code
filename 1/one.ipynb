{
 "cells": [
  {
   "cell_type": "code",
   "execution_count": 1,
   "id": "initial_id",
   "metadata": {
    "collapsed": true,
    "ExecuteTime": {
     "end_time": "2023-12-01T23:18:24.318390500Z",
     "start_time": "2023-12-01T23:18:24.314582Z"
    }
   },
   "outputs": [],
   "source": [
    "calibration_values = []"
   ]
  },
  {
   "cell_type": "code",
   "execution_count": 2,
   "outputs": [],
   "source": [
    "with open('calibration_document.txt', 'r') as calibration_document:\n",
    "    lines = (line for line in (line.rstrip() for line in calibration_document.readlines()) if line)"
   ],
   "metadata": {
    "collapsed": false,
    "ExecuteTime": {
     "end_time": "2023-12-01T23:18:24.340618400Z",
     "start_time": "2023-12-01T23:18:24.318390500Z"
    }
   },
   "id": "f189828437e4db86"
  },
  {
   "cell_type": "code",
   "execution_count": 3,
   "outputs": [],
   "source": [
    "for line in lines:\n",
    "    \n",
    "    current_line = {\"first\": \"\",\"last\": \"\",}\n",
    "    for char in line:\n",
    "        if char.isnumeric() and not current_line['first']:\n",
    "            current_line['first'] = char\n",
    "        if char.isnumeric():\n",
    "            current_line['last'] = char\n",
    "            \n",
    "    calibration_values.append(int(f\"{current_line['first']}{current_line['last']}\"))"
   ],
   "metadata": {
    "collapsed": false,
    "ExecuteTime": {
     "end_time": "2023-12-01T23:18:24.341376500Z",
     "start_time": "2023-12-01T23:18:24.327493100Z"
    }
   },
   "id": "8b94f2acbf69eea0"
  },
  {
   "cell_type": "code",
   "execution_count": 4,
   "outputs": [
    {
     "name": "stdout",
     "output_type": "stream",
     "text": [
      "Part 1 Calibration sum: 54953\n"
     ]
    }
   ],
   "source": [
    "print(f\"Part 1 Calibration sum: {sum(calibration_values)}\")"
   ],
   "metadata": {
    "collapsed": false,
    "ExecuteTime": {
     "end_time": "2023-12-01T23:18:24.344391100Z",
     "start_time": "2023-12-01T23:18:24.334347100Z"
    }
   },
   "id": "bbefe5608fc4eac2"
  }
 ],
 "metadata": {
  "kernelspec": {
   "display_name": "Python 3",
   "language": "python",
   "name": "python3"
  },
  "language_info": {
   "codemirror_mode": {
    "name": "ipython",
    "version": 2
   },
   "file_extension": ".py",
   "mimetype": "text/x-python",
   "name": "python",
   "nbconvert_exporter": "python",
   "pygments_lexer": "ipython2",
   "version": "2.7.6"
  }
 },
 "nbformat": 4,
 "nbformat_minor": 5
}
