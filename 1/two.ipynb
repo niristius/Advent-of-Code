{
 "cells": [
  {
   "cell_type": "code",
   "execution_count": 46,
   "outputs": [
    {
     "name": "stdout",
     "output_type": "stream",
     "text": [
      "54953\n"
     ]
    }
   ],
   "source": [
    "calibration_values = []\n",
    "with open('calibration_document.txt', 'r') as calibration_document:\n",
    "    lines = (line for line in (line.rstrip() for line in calibration_document.readlines()) if line)\n",
    "for line in lines:\n",
    "    current_line = {\"first\": \"\",\"last\": \"\",}\n",
    "    for char in line:\n",
    "        if char.isnumeric() and current_line['first'] is None:\n",
    "            current_line['first'] = char\n",
    "        if char.isnumeric():\n",
    "            current_line['last'] = char\n",
    "    calibration_values.append(int(f\"{current_line['first']}{current_line['last']}\"))\n",
    "print(sum(calibration_values))"
   ],
   "metadata": {
    "collapsed": false,
    "ExecuteTime": {
     "end_time": "2023-12-01T16:40:40.568935Z",
     "start_time": "2023-12-01T16:40:40.558718Z"
    }
   },
   "id": "a8e9556d5a9ba4a2"
  },
  {
   "cell_type": "code",
   "execution_count": 49,
   "id": "aeadf672-5903-47fc-83d7-b12487332a37",
   "metadata": {
    "ExecuteTime": {
     "end_time": "2023-12-01T16:44:30.303836Z",
     "start_time": "2023-12-01T16:44:30.289361Z"
    }
   },
   "outputs": [
    {
     "name": "stdout",
     "output_type": "stream",
     "text": [
      "53885\n"
     ]
    }
   ],
   "source": [
    "import re\n",
    "\n",
    "units = {\"zero\":\"0\",\"one\":\"1\",\"two\":\"2\",\"three\":\"3\",\"four\":\"4\",\"five\":\"5\",\"six\":\"6\",\"seven\":\"7\",\"eight\":\"8\",\"nine\":\"9\"}\n",
    "pattern = \"zero|one|two|three|four|five|six|seven|eight|nine\"\n",
    "numbers = []\n",
    "\n",
    "with open('calibration_document.txt', 'r') as calibration_document:\n",
    "    lines = (line for line in (line.rstrip() for line in calibration_document.readlines()) if line)\n",
    "    \n",
    "for line in lines:\n",
    "    literal_numbers = {}\n",
    "    current_line = { \"first\": \"\",\"last\": \"\",}\n",
    "    matches = re.findall(pattern, line)\n",
    "    if matches:\n",
    "        line = line.replace(matches[0], units[matches[0]], 1)\n",
    "        line = line.replace(matches[-1], units[matches[-1]], -1)\n",
    "    \n",
    "    for char in enumerate(line):\n",
    "        if char.isnumeric() and not current_line['first']:\n",
    "            current_line['first'] = char\n",
    "        if char.isnumeric():\n",
    "            current_line['last'] = char\n",
    "    numbers.append(int(f\"{current_line['first']}{current_line['last']}\"))\n",
    "    \n",
    "print(sum(numbers))\n"
   ]
  },
  {
   "cell_type": "code",
   "execution_count": 29,
   "id": "b8da401f-79cb-4af5-b082-e8a82523a746",
   "metadata": {
    "ExecuteTime": {
     "end_time": "2023-12-01T16:11:47.601407Z",
     "start_time": "2023-12-01T16:11:47.599778Z"
    }
   },
   "outputs": [],
   "source": []
  }
 ],
 "metadata": {
  "kernelspec": {
   "display_name": "Python 3 (ipykernel)",
   "language": "python",
   "name": "python3"
  },
  "language_info": {
   "codemirror_mode": {
    "name": "ipython",
    "version": 3
   },
   "file_extension": ".py",
   "mimetype": "text/x-python",
   "name": "python",
   "nbconvert_exporter": "python",
   "pygments_lexer": "ipython3",
   "version": "3.12.0"
  }
 },
 "nbformat": 4,
 "nbformat_minor": 5
}
