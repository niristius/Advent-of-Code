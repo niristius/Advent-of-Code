{
 "cells": [
  {
   "cell_type": "code",
   "execution_count": 1,
   "id": "aeadf672-5903-47fc-83d7-b12487332a37",
   "metadata": {
    "ExecuteTime": {
     "end_time": "2023-12-01T23:18:15.681243700Z",
     "start_time": "2023-12-01T23:18:15.669462Z"
    }
   },
   "outputs": [],
   "source": [
    "import regex as re\n",
    "\n",
    "numbers = {\"one\":\"1e\",\"two\":\"2o\",\"three\":\"3e\",\"four\":\"4r\",\"five\":\"5e\",\"six\":\"6x\",\"seven\":\"7n\",\"eight\":\"8t\",\"nine\":\"9e\"}\n",
    "pattern = \"one|two|three|four|five|six|seven|eight|nine\"\n",
    "calibration_values = []"
   ]
  },
  {
   "cell_type": "code",
   "execution_count": 2,
   "outputs": [],
   "source": [
    "with open('calibration_document.txt', 'r') as calibration_document:\n",
    "    lines = (line for line in (line.rstrip() for line in calibration_document.readlines()) if line)"
   ],
   "metadata": {
    "collapsed": false,
    "ExecuteTime": {
     "end_time": "2023-12-01T23:18:15.684824700Z",
     "start_time": "2023-12-01T23:18:15.681243700Z"
    }
   },
   "id": "9cd80b3f60be877f"
  },
  {
   "cell_type": "code",
   "execution_count": 3,
   "outputs": [],
   "source": [
    "for line in lines:\n",
    "    sourceline = line\n",
    "    current_line = { \"first\": \"\",\"last\": \"\",}\n",
    "    matches = re.findall(pattern, line, overlapped=True)\n",
    "    for i, match in enumerate(matches):\n",
    "        line = line.replace(matches[i], numbers[matches[i]], 1)\n",
    "        \n",
    "    current_line = {\"first\": \"\",\"last\": \"\",}\n",
    "\n",
    "    for char in line:\n",
    "        if char.isnumeric() and not current_line['first']:\n",
    "            current_line['first'] = char\n",
    "        if char.isnumeric():\n",
    "            current_line['last'] = char\n",
    "            \n",
    "    calibration_values.append(int(f\"{current_line['first']}{current_line['last']}\"))"
   ],
   "metadata": {
    "collapsed": false,
    "ExecuteTime": {
     "end_time": "2023-12-01T23:18:15.698536300Z",
     "start_time": "2023-12-01T23:18:15.684824700Z"
    }
   },
   "id": "2e4ed3eb17477de5"
  },
  {
   "cell_type": "code",
   "execution_count": 4,
   "outputs": [
    {
     "name": "stdout",
     "output_type": "stream",
     "text": [
      "Part 2 Calibration sum: 53868\n"
     ]
    }
   ],
   "source": [
    "print(f\"Part 2 Calibration sum: {sum(calibration_values)}\")"
   ],
   "metadata": {
    "collapsed": false,
    "ExecuteTime": {
     "end_time": "2023-12-01T23:18:15.703559500Z",
     "start_time": "2023-12-01T23:18:15.696014500Z"
    }
   },
   "id": "f5fd794a652bf81c"
  }
 ],
 "metadata": {
  "kernelspec": {
   "display_name": "Python 3 (ipykernel)",
   "language": "python",
   "name": "python3"
  },
  "language_info": {
   "codemirror_mode": {
    "name": "ipython",
    "version": 3
   },
   "file_extension": ".py",
   "mimetype": "text/x-python",
   "name": "python",
   "nbconvert_exporter": "python",
   "pygments_lexer": "ipython3",
   "version": "3.12.0"
  }
 },
 "nbformat": 4,
 "nbformat_minor": 5
}
