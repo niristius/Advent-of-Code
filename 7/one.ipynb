{
 "cells": [
  {
   "cell_type": "code",
   "execution_count": 61,
   "id": "initial_id",
   "metadata": {
    "collapsed": true,
    "ExecuteTime": {
     "end_time": "2023-12-07T16:08:35.204797Z",
     "start_time": "2023-12-07T16:08:35.197919Z"
    }
   },
   "outputs": [],
   "source": [
    "import regex as re\n",
    "from collections import Counter"
   ]
  },
  {
   "cell_type": "code",
   "execution_count": 62,
   "outputs": [],
   "source": [
    "with open('testinput.txt', 'r') as hands_and_bets:\n",
    "    hands_and_bets = list(line for line in (line.rstrip() for line in hands_and_bets.readlines()) if line)"
   ],
   "metadata": {
    "collapsed": false,
    "ExecuteTime": {
     "end_time": "2023-12-07T16:08:35.218393Z",
     "start_time": "2023-12-07T16:08:35.202717Z"
    }
   },
   "id": "745e12df041826f4"
  },
  {
   "cell_type": "code",
   "execution_count": 63,
   "outputs": [],
   "source": [
    "labels = {'A', 'K', 'Q', 'J', 'T', '9', '8', '7', '6', '5', '4', '3', '2'}"
   ],
   "metadata": {
    "collapsed": false,
    "ExecuteTime": {
     "end_time": "2023-12-07T16:08:35.219309Z",
     "start_time": "2023-12-07T16:08:35.208014Z"
    }
   },
   "id": "d86aaadec7c2fd04"
  },
  {
   "cell_type": "code",
   "execution_count": 64,
   "outputs": [],
   "source": [
    "types = {\n",
    "    \"five\":[],\n",
    "    \"four\":[],\n",
    "    \"three\":[],\n",
    "    \"fullhouse\":[],\n",
    "    \"twopair\":[],\n",
    "    \"pair\":[],\n",
    "    \"singles\":[]\n",
    "}"
   ],
   "metadata": {
    "collapsed": false,
    "ExecuteTime": {
     "end_time": "2023-12-07T16:08:35.224011Z",
     "start_time": "2023-12-07T16:08:35.210677Z"
    }
   },
   "id": "e95203421a64e6dd"
  },
  {
   "cell_type": "code",
   "execution_count": 65,
   "outputs": [
    {
     "name": "stdout",
     "output_type": "stream",
     "text": [
      "{'five': [], 'four': [], 'three': [{'hand': 'T55J5', 'bet': '684', 'chars': {'T': 1, '5': 3, 'J': 1}}, {'hand': 'QQQJA', 'bet': '483', 'chars': {'Q': 3, 'J': 1, 'A': 1}}], 'fullhouse': [], 'twopair': [{'hand': 'KK677', 'bet': '28', 'chars': {'K': 2, '6': 1, '7': 2}}, {'hand': 'KTJJT', 'bet': '220', 'chars': {'K': 1, 'T': 2, 'J': 2}}], 'pair': [{'hand': '32T3K', 'bet': '765', 'chars': {'3': 2, '2': 1, 'T': 1, 'K': 1}}], 'singles': []}\n"
     ]
    }
   ],
   "source": [
    "for hand in hands_and_bets:\n",
    "    current = {\n",
    "        \"hand\":hand.split(' ')[0],\n",
    "        \"bet\":hand.split(' ')[1],\n",
    "        \"chars\":{}\n",
    "    }\n",
    "    \n",
    "    for char in [*current['hand']]:\n",
    "        if char not in current['chars']:\n",
    "            current['chars'][char] = 1\n",
    "        else:\n",
    "            current['chars'][char] = current['chars'][char] + 1\n",
    "    \n",
    "    if 5 in current['chars'].values():\n",
    "        types['five'].append(current)\n",
    "    elif 4 in current['chars'].values():\n",
    "        types['four'].append(current)\n",
    "    elif 3 in current['chars'].values():\n",
    "        if 2 in current['chars'].values():\n",
    "            types['fullhouse'].append(current)\n",
    "        else:\n",
    "            types['three'].append(current)\n",
    "    elif 2 in current['chars'].values():\n",
    "        counter = Counter(current['chars'].values())\n",
    "        if counter[2] == 2:\n",
    "            types['twopair'].append(current)\n",
    "        else:\n",
    "            types['pair'].append(current)\n",
    "    else: \n",
    "        types['singles'].append(current)\n",
    "        \n",
    "print(types)"
   ],
   "metadata": {
    "collapsed": false,
    "ExecuteTime": {
     "end_time": "2023-12-07T16:08:35.224652Z",
     "start_time": "2023-12-07T16:08:35.217491Z"
    }
   },
   "id": "a6de9c3824419f71"
  },
  {
   "cell_type": "code",
   "execution_count": 66,
   "outputs": [
    {
     "name": "stdout",
     "output_type": "stream",
     "text": [
      "[]\n",
      "[]\n"
     ]
    },
    {
     "ename": "TypeError",
     "evalue": "'set' object is not callable",
     "output_type": "error",
     "traceback": [
      "\u001B[0;31m---------------------------------------------------------------------------\u001B[0m",
      "\u001B[0;31mTypeError\u001B[0m                                 Traceback (most recent call last)",
      "Cell \u001B[0;32mIn[66], line 2\u001B[0m\n\u001B[1;32m      1\u001B[0m \u001B[38;5;28;01mfor\u001B[39;00m substack \u001B[38;5;129;01min\u001B[39;00m types:\n\u001B[0;32m----> 2\u001B[0m     \u001B[38;5;28mprint\u001B[39m(\u001B[38;5;28;43msorted\u001B[39;49m\u001B[43m(\u001B[49m\u001B[43mtypes\u001B[49m\u001B[43m[\u001B[49m\u001B[43msubstack\u001B[49m\u001B[43m]\u001B[49m\u001B[43m,\u001B[49m\u001B[43m \u001B[49m\u001B[43mkey\u001B[49m\u001B[38;5;241;43m=\u001B[39;49m\u001B[43mlabels\u001B[49m\u001B[43m,\u001B[49m\u001B[43m \u001B[49m\u001B[43mreverse\u001B[49m\u001B[38;5;241;43m=\u001B[39;49m\u001B[38;5;28;43;01mTrue\u001B[39;49;00m\u001B[43m)\u001B[49m)\n",
      "\u001B[0;31mTypeError\u001B[0m: 'set' object is not callable"
     ]
    }
   ],
   "source": [
    "for substack in types:\n",
    "    print(sorted(types[substack], key=labels, reverse=True))\n",
    "    "
   ],
   "metadata": {
    "collapsed": false,
    "ExecuteTime": {
     "end_time": "2023-12-07T16:08:35.231791Z",
     "start_time": "2023-12-07T16:08:35.223771Z"
    }
   },
   "id": "461b89ce84840b45"
  }
 ],
 "metadata": {
  "kernelspec": {
   "display_name": "Python 3",
   "language": "python",
   "name": "python3"
  },
  "language_info": {
   "codemirror_mode": {
    "name": "ipython",
    "version": 2
   },
   "file_extension": ".py",
   "mimetype": "text/x-python",
   "name": "python",
   "nbconvert_exporter": "python",
   "pygments_lexer": "ipython2",
   "version": "2.7.6"
  }
 },
 "nbformat": 4,
 "nbformat_minor": 5
}
