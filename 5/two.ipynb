{
 "cells": [
  {
   "cell_type": "code",
   "execution_count": null,
   "outputs": [],
   "source": [
    "import regex as re"
   ],
   "metadata": {
    "collapsed": false
   },
   "id": "29d36516f1791ee4"
  },
  {
   "cell_type": "code",
   "execution_count": null,
   "id": "initial_id",
   "metadata": {
    "collapsed": true
   },
   "outputs": [],
   "source": [
    "with open('almanac.txt', 'r') as game_record:\n",
    "    lines = list(line for line in (line.rstrip() for line in game_record.readlines()) if line)"
   ]
  },
  {
   "cell_type": "code",
   "execution_count": null,
   "outputs": [],
   "source": [
    "seed_numbers = []\n",
    "seed_to_soil_map = []\n",
    "soil_to_fertilizer_map = []\n",
    "fertilizer_to_water_map = []\n",
    "water_to_light_map = []\n",
    "light_to_temperature_map = []\n",
    "temperature_to_humidity_map = []\n",
    "humidity_to_location_map = []\n",
    "current_map = None"
   ],
   "metadata": {
    "collapsed": false
   },
   "id": "b8adf58d62ed647c"
  },
  {
   "cell_type": "code",
   "execution_count": null,
   "outputs": [],
   "source": [
    "for line in lines:\n",
    "    if \"seeds:\" in line:\n",
    "        seed_numbers = list(int(num) for num in re.findall(r'\\d+', line)); continue\n",
    "    elif \"seed-to-soil map:\" in line:\n",
    "        current_map = \"seed-to-soil\"; continue\n",
    "    elif \"soil-to-fertilizer map:\" in line:\n",
    "        current_map = \"soil-to-fertilizer\"; continue\n",
    "    elif \"fertilizer-to-water map:\" in line:\n",
    "        current_map = \"fertilizer-to-water\"; continue\n",
    "    elif \"water-to-light map:\" in line:\n",
    "        current_map = \"water-to-light\"; continue\n",
    "    elif \"light-to-temperature map:\" in line:\n",
    "        current_map = \"light-to-temperature\"; continue\n",
    "    elif \"temperature-to-humidity map:\" in line:\n",
    "        current_map = \"temperature-to-humidity\"; continue\n",
    "    elif \"humidity-to-location map:\" in line:\n",
    "        current_map = \"humidity-to-location\"; continue\n",
    "        \n",
    "    current_numbers = list(int(num) for num in re.findall(r'\\d+', line))\n",
    "        \n",
    "    match current_map:\n",
    "        case \"seed-to-soil\":\n",
    "            seed_to_soil_map.append(current_numbers)\n",
    "        case \"soil-to-fertilizer\":\n",
    "            soil_to_fertilizer_map.append(current_numbers)\n",
    "        case \"fertilizer-to-water\":\n",
    "            fertilizer_to_water_map.append(current_numbers)\n",
    "        case \"water-to-light\":\n",
    "            water_to_light_map.append(current_numbers)\n",
    "        case \"light-to-temperature\":\n",
    "            light_to_temperature_map.append(current_numbers)\n",
    "        case \"temperature-to-humidity\":\n",
    "            temperature_to_humidity_map.append(current_numbers)\n",
    "        case \"humidity-to-location\":\n",
    "            humidity_to_location_map.append(current_numbers)\n",
    "\n",
    "seed_to_soil_map.sort(key=lambda x: x[1])\n",
    "soil_to_fertilizer_map.sort(key=lambda x: x[1])\n",
    "fertilizer_to_water_map.sort(key=lambda x: x[1])\n",
    "water_to_light_map.sort(key=lambda x: x[1])\n",
    "light_to_temperature_map.sort(key=lambda x: x[1])\n",
    "temperature_to_humidity_map.sort(key=lambda x: x[1])\n",
    "humidity_to_location_map.sort(key=lambda x: x[1])"
   ],
   "metadata": {
    "collapsed": false
   },
   "id": "ae3d4637da2d623b"
  },
  {
   "cell_type": "code",
   "execution_count": null,
   "outputs": [],
   "source": [
    "lowest_loc = 999_999_999_999\n",
    "for seed_start, runlength in zip(seed_numbers[0::2], seed_numbers[1::2]):\n",
    "    for seed in range(seed_start, seed_start + runlength):\n",
    "        soil = fertilizer = water = light = temp = humidity = location = None\n",
    "        \n",
    "        # Seed to Soil\n",
    "        for mapping in seed_to_soil_map:\n",
    "            if seed in range(mapping[1], mapping[1] + mapping[2]):\n",
    "                soil = mapping[0] + ( seed - mapping[1])\n",
    "        if not soil: soil = seed\n",
    "        \n",
    "        # Soil To Fertilizer\n",
    "        for mapping in soil_to_fertilizer_map:\n",
    "            if soil in range(mapping[1], mapping[1] + mapping[2]):\n",
    "                fertilizer = mapping[0] + ( soil - mapping[1])\n",
    "        if not fertilizer: fertilizer = soil\n",
    "        \n",
    "        # Fertilizer to Water\n",
    "        for mapping in fertilizer_to_water_map:\n",
    "            if fertilizer in range(mapping[1], mapping[1] + mapping[2]):\n",
    "                water = mapping[0] + ( fertilizer - mapping[1])\n",
    "        if not water: water = fertilizer\n",
    "        \n",
    "        # Water to Light\n",
    "        for mapping in water_to_light_map:\n",
    "            if water in range(mapping[1], mapping[1] + mapping[2]):\n",
    "\n",
    "                light = mapping[0] + ( water - mapping[1])\n",
    "        if not light: light = water\n",
    "        \n",
    "        # Light to Temperature\n",
    "        for mapping in light_to_temperature_map:\n",
    "            if light in range(mapping[1], mapping[1] + mapping[2]):\n",
    "                temp = mapping[0] + ( light - mapping[1])\n",
    "        if not temp: temp = light\n",
    "    \n",
    "        # temperature to humidity\n",
    "        for mapping in temperature_to_humidity_map:\n",
    "            if temp in range(mapping[1], mapping[1] + mapping[2]):\n",
    "                humidity = mapping[0] + ( temp - mapping[1])\n",
    "        if not humidity: humidity = temp\n",
    "    \n",
    "        # Humidity to Location\n",
    "        for mapping in humidity_to_location_map:\n",
    "            if humidity in range(mapping[1], mapping[1] + mapping[2]):\n",
    "                location = mapping[0] + (humidity - mapping[1])\n",
    "        if not location: location = humidity\n",
    "        \n",
    "        if location < lowest_loc:\n",
    "            print(location)\n",
    "            lowest_loc = location"
   ],
   "metadata": {
    "collapsed": false
   },
   "id": "94f24b7186c3bd3b"
  }
 ],
 "metadata": {
  "kernelspec": {
   "display_name": "Python 3",
   "language": "python",
   "name": "python3"
  },
  "language_info": {
   "codemirror_mode": {
    "name": "ipython",
    "version": 2
   },
   "file_extension": ".py",
   "mimetype": "text/x-python",
   "name": "python",
   "nbconvert_exporter": "python",
   "pygments_lexer": "ipython2",
   "version": "2.7.6"
  }
 },
 "nbformat": 4,
 "nbformat_minor": 5
}
