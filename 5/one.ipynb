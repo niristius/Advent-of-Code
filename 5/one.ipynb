{
 "cells": [
  {
   "cell_type": "code",
   "execution_count": null,
   "outputs": [],
   "source": [
    "import regex as re"
   ],
   "metadata": {
    "collapsed": false
   },
   "id": "29d36516f1791ee4"
  },
  {
   "cell_type": "code",
   "execution_count": null,
   "id": "initial_id",
   "metadata": {
    "collapsed": true
   },
   "outputs": [],
   "source": [
    "with open('almanac.txt', 'r') as game_record:\n",
    "    lines = list(line for line in (line.rstrip() for line in game_record.readlines()) if line)"
   ]
  },
  {
   "cell_type": "code",
   "execution_count": null,
   "outputs": [],
   "source": [
    "seed_numbers = []\n",
    "seed_to_soil_map = []\n",
    "soil_to_fertilizer_map = []\n",
    "fertilizer_to_water_map = []\n",
    "water_to_light_map = []\n",
    "light_to_temperature_map = []\n",
    "temperature_to_humidity_map = []\n",
    "humidity_to_location_map = []\n",
    "current_map = None"
   ],
   "metadata": {
    "collapsed": false
   },
   "id": "b8adf58d62ed647c"
  },
  {
   "cell_type": "code",
   "execution_count": null,
   "outputs": [],
   "source": [
    "for line in lines:\n",
    "    if \"seeds:\" in line:\n",
    "        seed_numbers = list(int(num) for num in re.findall(r'\\d+', line))\n",
    "        continue\n",
    "    elif \"seed-to-soil map:\" in line:\n",
    "        current_map = \"seed-to-soil\"\n",
    "        continue\n",
    "    elif \"soil-to-fertilizer map:\" in line:\n",
    "        current_map = \"soil-to-fertilizer\"\n",
    "        continue\n",
    "    elif \"fertilizer-to-water map:\" in line:\n",
    "        current_map = \"fertilizer-to-water\"\n",
    "        continue\n",
    "    elif \"water-to-light map:\" in line:\n",
    "        current_map = \"water-to-light\"\n",
    "        continue\n",
    "    elif \"light-to-temperature map:\" in line:\n",
    "        current_map = \"light-to-temperature\"\n",
    "        continue\n",
    "    elif \"temperature-to-humidity map:\" in line:\n",
    "        current_map = \"temperature-to-humidity\"\n",
    "        continue\n",
    "    elif \"humidity-to-location map:\" in line:\n",
    "        current_map = \"humidity-to-location\"\n",
    "        continue\n",
    "        \n",
    "    current_numbers = list(int(num) for num in re.findall(r'\\d+', line))\n",
    "        \n",
    "    match current_map:\n",
    "        case \"seed-to-soil\":\n",
    "            seed_to_soil_map.append(current_numbers)\n",
    "        case \"soil-to-fertilizer\":\n",
    "            soil_to_fertilizer_map.append(current_numbers)\n",
    "        case \"fertilizer-to-water\":\n",
    "            fertilizer_to_water_map.append(current_numbers)\n",
    "        case \"water-to-light\":\n",
    "            water_to_light_map.append(current_numbers)\n",
    "        case \"light-to-temperature\":\n",
    "            light_to_temperature_map.append(current_numbers)\n",
    "        case \"temperature-to-humidity\":\n",
    "            temperature_to_humidity_map.append(current_numbers)\n",
    "        case \"humidity-to-location\":\n",
    "            humidity_to_location_map.append(current_numbers)\n",
    "\n",
    "seed_to_soil_map.sort(key=lambda x: x[1])\n",
    "soil_to_fertilizer_map.sort(key=lambda x: x[1])\n",
    "fertilizer_to_water_map.sort(key=lambda x: x[1])\n",
    "water_to_light_map.sort(key=lambda x: x[1])\n",
    "light_to_temperature_map.sort(key=lambda x: x[1])\n",
    "temperature_to_humidity_map.sort(key=lambda x: x[1])\n",
    "humidity_to_location_map.sort(key=lambda x: x[1])\n",
    "\n",
    "print(\"seed numbers\", seed_to_soil_map)\n",
    "print(\"seed-soil map\", seed_to_soil_map)\n",
    "print(\"soil-fertilizer numbers\", soil_to_fertilizer_map)\n",
    "print(\"fertilizer-water numbers\", fertilizer_to_water_map)\n",
    "print(\"water-light numbers\", water_to_light_map)\n",
    "print(\"light-temperature numbers\", light_to_temperature_map)\n",
    "print(\"temperature-humidity numbers\", temperature_to_humidity_map)\n",
    "print(\"humidity-location numbers\", humidity_to_location_map)"
   ],
   "metadata": {
    "collapsed": false
   },
   "id": "ae3d4637da2d623b"
  },
  {
   "cell_type": "code",
   "execution_count": null,
   "outputs": [],
   "source": [
    "all_locations = []\n",
    "for seed in seed_numbers:\n",
    "    soil = fertilizer = water = light = temp = humidity = location = None\n",
    "    print(f\"Seed: {seed}\")\n",
    "    \n",
    "    # Seed to Soil\n",
    "    for mapping in seed_to_soil_map:\n",
    "        if seed in range(mapping[1], mapping[1] + mapping[2]):\n",
    "            #print(f\"seed {seed} mapped in {mapping}\")\n",
    "            soil = mapping[0] + ( seed - mapping[1])\n",
    "    if not soil: soil = seed\n",
    "    \n",
    "    # Soil To Fertilizer\n",
    "    for mapping in soil_to_fertilizer_map:\n",
    "        if soil in range(mapping[1], mapping[1] + mapping[2]):\n",
    "            #print(f\"soil {soil} mapped in {mapping}\")\n",
    "            fertilizer = mapping[0] + ( soil - mapping[1])\n",
    "    if not fertilizer: fertilizer = soil\n",
    "    \n",
    "    # Fertilizer to Water\n",
    "    for mapping in fertilizer_to_water_map:\n",
    "        if fertilizer in range(mapping[1], mapping[1] + mapping[2]):\n",
    "            #print(f\"fert {fertilizer} mapped in {mapping}\")\n",
    "            water = mapping[0] + ( fertilizer - mapping[1])\n",
    "    if not water: water = fertilizer\n",
    "    \n",
    "    # Water to Light\n",
    "    for mapping in water_to_light_map:\n",
    "        if water in range(mapping[1], mapping[1] + mapping[2]):\n",
    "            #print(f\"water {water} mapped in {mapping}\")\n",
    "            light = mapping[0] + ( water - mapping[1])\n",
    "    if not light: light = water\n",
    "    \n",
    "    # Light to Temperature\n",
    "    for mapping in light_to_temperature_map:\n",
    "        if light in range(mapping[1], mapping[1] + mapping[2]):\n",
    "            #print(f\"light {light} mapped in {mapping}\")\n",
    "            temp = mapping[0] + ( light - mapping[1])\n",
    "    if not temp: temp = light\n",
    "\n",
    "    # temperature to humidity\n",
    "    for mapping in temperature_to_humidity_map:\n",
    "        if temp in range(mapping[1], mapping[1] + mapping[2]):\n",
    "            #print(f\"temp {temp} mapped in {mapping}\")\n",
    "            humidity = mapping[0] + ( temp - mapping[1])\n",
    "    if not humidity: humidity = temp\n",
    "\n",
    "    # Humidity to Location\n",
    "    for mapping in humidity_to_location_map:\n",
    "        if humidity in range(mapping[1], mapping[1] + mapping[2]):\n",
    "            print(f\"humidity {humidity} mapped in {mapping}\")\n",
    "            location = mapping[0] + (humidity - mapping[1])\n",
    "    if not location: location = humidity\n",
    "        \n",
    "    print(f\"Location: {location}\")\n",
    "    print(f\"--> Seed {seed}, Soil {soil}, Fertilizer {fertilizer}, Water {water}, Light {light}, Temp {temp}, Humid {humidity}, Location {location}\")\n",
    "    all_locations.append(location)\n",
    "            "
   ],
   "metadata": {
    "collapsed": false
   },
   "id": "94f24b7186c3bd3b"
  },
  {
   "cell_type": "code",
   "execution_count": null,
   "outputs": [],
   "source": [
    "print(all_locations)\n",
    "all_locations.sort()\n",
    "print(f\"Nearest Location: {all_locations[0]}\")"
   ],
   "metadata": {
    "collapsed": false
   },
   "id": "3ba2172267cc1ea1"
  }
 ],
 "metadata": {
  "kernelspec": {
   "display_name": "Python 3",
   "language": "python",
   "name": "python3"
  },
  "language_info": {
   "codemirror_mode": {
    "name": "ipython",
    "version": 2
   },
   "file_extension": ".py",
   "mimetype": "text/x-python",
   "name": "python",
   "nbconvert_exporter": "python",
   "pygments_lexer": "ipython2",
   "version": "2.7.6"
  }
 },
 "nbformat": 4,
 "nbformat_minor": 5
}
