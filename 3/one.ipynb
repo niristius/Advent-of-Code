{
 "cells": [
  {
   "cell_type": "code",
   "execution_count": 1,
   "outputs": [
    {
     "ename": "ModuleNotFoundError",
     "evalue": "No module named 'termcolor'",
     "output_type": "error",
     "traceback": [
      "\u001B[0;31m---------------------------------------------------------------------------\u001B[0m",
      "\u001B[0;31mModuleNotFoundError\u001B[0m                       Traceback (most recent call last)",
      "Cell \u001B[0;32mIn[1], line 3\u001B[0m\n\u001B[1;32m      1\u001B[0m \u001B[38;5;28;01mimport\u001B[39;00m \u001B[38;5;21;01mregex\u001B[39;00m \u001B[38;5;28;01mas\u001B[39;00m \u001B[38;5;21;01mre\u001B[39;00m\n\u001B[1;32m      2\u001B[0m \u001B[38;5;28;01mimport\u001B[39;00m \u001B[38;5;21;01msys\u001B[39;00m\n\u001B[0;32m----> 3\u001B[0m \u001B[38;5;28;01mfrom\u001B[39;00m \u001B[38;5;21;01mtermcolor\u001B[39;00m \u001B[38;5;28;01mimport\u001B[39;00m colored\n",
      "\u001B[0;31mModuleNotFoundError\u001B[0m: No module named 'termcolor'"
     ]
    }
   ],
   "source": [
    "import regex as re\n",
    "import sys\n",
    "from termcolor import colored"
   ],
   "metadata": {
    "collapsed": false,
    "ExecuteTime": {
     "end_time": "2023-12-04T08:20:24.185112Z",
     "start_time": "2023-12-04T08:20:24.085049Z"
    }
   },
   "id": "d5fb863f5b27659d"
  },
  {
   "cell_type": "code",
   "execution_count": null,
   "id": "initial_id",
   "metadata": {
    "collapsed": true,
    "ExecuteTime": {
     "start_time": "2023-12-04T08:20:24.185319Z"
    }
   },
   "outputs": [],
   "source": [
    "with open('partnumbers.txt', 'r') as game_record:\n",
    "    lines = list(line for line in (line.rstrip() for line in game_record.readlines()) if line)"
   ]
  },
  {
   "cell_type": "code",
   "execution_count": null,
   "outputs": [],
   "source": [
    "line1 = line2 = line3 =\"...\"\n",
    "\n",
    "line_amount=sum(1 for l in lines)\n",
    "current_line=0\n",
    "valid_partnumbers=[]\n",
    "\n",
    "while current_line < line_amount +1:\n",
    "    current_line += 1\n",
    "\n",
    "    line3 = line2\n",
    "    line2 = line1\n",
    "    line1 = lines[current_line-1] if current_line != line_amount + 1 else \"...\"\n",
    "               \n",
    "    for match in re.finditer(r'\\d+', line2):\n",
    "        current_number = {\n",
    "            \"line\":current_line,\n",
    "            \"index\":(match.span()[0]),\n",
    "            \"value\":int(match[0])\n",
    "        }\n",
    "        \n",
    "        valid_index_start = current_number[\"index\"] - 1 if current_number[\"index\"] - 1 >= 0 else 0\n",
    "        valid_index_end = current_number[\"index\"] + len(str(current_number['value'])) + 1 \\\n",
    "            if current_number[\"index\"] + len(str(current_number['value'])) + 1 <= len(line2) \\\n",
    "            else len(line2)\n",
    "        \n",
    "        for strings in [line1[valid_index_start:valid_index_end], line2[valid_index_start:valid_index_end], line3[valid_index_start:valid_index_end]]:\n",
    "            for char in strings :\n",
    "                if not char.isnumeric() and char != \".\" and current_number not in valid_partnumbers:\n",
    "                    valid_partnumbers.append(current_number)\n",
    "                    break\n"
   ],
   "metadata": {
    "collapsed": false,
    "ExecuteTime": {
     "start_time": "2023-12-04T08:20:24.186265Z"
    }
   },
   "id": "f4278317dc97de1c"
  },
  {
   "cell_type": "code",
   "execution_count": null,
   "outputs": [],
   "source": [
    "Sum = 0\n",
    "for partnumber in valid_partnumbers:\n",
    "    Sum = Sum + int(partnumber['value'])\n",
    "print(Sum)"
   ],
   "metadata": {
    "collapsed": false,
    "ExecuteTime": {
     "start_time": "2023-12-04T08:20:24.187017Z"
    }
   },
   "id": "d24c210641ebad5b"
  }
 ],
 "metadata": {
  "kernelspec": {
   "display_name": "Python 3",
   "language": "python",
   "name": "python3"
  },
  "language_info": {
   "codemirror_mode": {
    "name": "ipython",
    "version": 2
   },
   "file_extension": ".py",
   "mimetype": "text/x-python",
   "name": "python",
   "nbconvert_exporter": "python",
   "pygments_lexer": "ipython2",
   "version": "2.7.6"
  }
 },
 "nbformat": 4,
 "nbformat_minor": 5
}
