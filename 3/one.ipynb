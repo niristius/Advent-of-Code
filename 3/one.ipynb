{
 "cells": [
  {
   "cell_type": "code",
   "execution_count": 5,
   "outputs": [],
   "source": [
    "import regex as re\n",
    "import sys\n",
    "from termcolor import colored"
   ],
   "metadata": {
    "collapsed": false,
    "ExecuteTime": {
     "end_time": "2023-12-03T16:51:36.142248400Z",
     "start_time": "2023-12-03T16:51:36.132392600Z"
    }
   },
   "id": "d5fb863f5b27659d"
  },
  {
   "cell_type": "code",
   "execution_count": 6,
   "id": "initial_id",
   "metadata": {
    "collapsed": true,
    "ExecuteTime": {
     "end_time": "2023-12-03T16:51:36.143256500Z",
     "start_time": "2023-12-03T16:51:36.134914Z"
    }
   },
   "outputs": [],
   "source": [
    "with open('partnumbers.txt', 'r') as game_record:\n",
    "    lines = list(line for line in (line.rstrip() for line in game_record.readlines()) if line)"
   ]
  },
  {
   "cell_type": "code",
   "execution_count": 7,
   "outputs": [],
   "source": [
    "line1 = line2 = line3 =\"...\"\n",
    "\n",
    "line_amount=sum(1 for l in lines)\n",
    "current_line=0\n",
    "valid_partnumbers=[]\n",
    "\n",
    "while current_line < line_amount +1:\n",
    "    current_line += 1\n",
    "\n",
    "    line3 = line2\n",
    "    line2 = line1\n",
    "    line1 = lines[current_line-1] if current_line != line_amount + 1 else \"...\"\n",
    "               \n",
    "    for match in re.finditer(r'\\d+', line2):\n",
    "        current_number = {\n",
    "            \"line\":current_line,\n",
    "            \"index\":(match.span()[0]),\n",
    "            \"value\":int(match[0])\n",
    "        }\n",
    "        \n",
    "        valid_index_start = current_number[\"index\"] - 1 if current_number[\"index\"] - 1 >= 0 else 0\n",
    "        valid_index_end = current_number[\"index\"] + len(str(current_number['value'])) + 1 \\\n",
    "            if current_number[\"index\"] + len(str(current_number['value'])) + 1 <= len(line2) \\\n",
    "            else len(line2)\n",
    "        \n",
    "        for strings in [line1[valid_index_start:valid_index_end], line2[valid_index_start:valid_index_end], line3[valid_index_start:valid_index_end]]:\n",
    "            for char in strings :\n",
    "                if not char.isnumeric() and char != \".\" and current_number not in valid_partnumbers:\n",
    "                    valid_partnumbers.append(current_number)\n",
    "                    break\n"
   ],
   "metadata": {
    "collapsed": false,
    "ExecuteTime": {
     "end_time": "2023-12-03T16:51:36.161651700Z",
     "start_time": "2023-12-03T16:51:36.144760800Z"
    }
   },
   "id": "f4278317dc97de1c"
  },
  {
   "cell_type": "code",
   "execution_count": 8,
   "outputs": [
    {
     "name": "stdout",
     "output_type": "stream",
     "text": [
      "528799\n"
     ]
    }
   ],
   "source": [
    "Sum = 0\n",
    "for partnumber in valid_partnumbers:\n",
    "    Sum = Sum + int(partnumber['value'])\n",
    "print(Sum)"
   ],
   "metadata": {
    "collapsed": false,
    "ExecuteTime": {
     "end_time": "2023-12-03T16:51:36.166258Z",
     "start_time": "2023-12-03T16:51:36.161651700Z"
    }
   },
   "id": "d24c210641ebad5b"
  }
 ],
 "metadata": {
  "kernelspec": {
   "display_name": "Python 3",
   "language": "python",
   "name": "python3"
  },
  "language_info": {
   "codemirror_mode": {
    "name": "ipython",
    "version": 2
   },
   "file_extension": ".py",
   "mimetype": "text/x-python",
   "name": "python",
   "nbconvert_exporter": "python",
   "pygments_lexer": "ipython2",
   "version": "2.7.6"
  }
 },
 "nbformat": 4,
 "nbformat_minor": 5
}
