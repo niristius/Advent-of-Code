{
 "cells": [
  {
   "cell_type": "code",
   "execution_count": 69,
   "outputs": [],
   "source": [
    "import regex as re"
   ],
   "metadata": {
    "collapsed": false,
    "ExecuteTime": {
     "end_time": "2023-12-03T19:43:07.295079500Z",
     "start_time": "2023-12-03T19:43:07.281661900Z"
    }
   },
   "id": "d5fb863f5b27659d"
  },
  {
   "cell_type": "code",
   "execution_count": 70,
   "id": "initial_id",
   "metadata": {
    "collapsed": true,
    "ExecuteTime": {
     "end_time": "2023-12-03T19:43:07.296078900Z",
     "start_time": "2023-12-03T19:43:07.284170900Z"
    }
   },
   "outputs": [],
   "source": [
    "with open('partnumbers.txt', 'r') as game_record:\n",
    "    lines = list(line for line in (line.rstrip() for line in game_record.readlines()) if line)"
   ]
  },
  {
   "cell_type": "code",
   "execution_count": 71,
   "outputs": [],
   "source": [
    "line1 = line2 = line3 = \"...\"\n",
    "\n",
    "line_amount=sum(1 for l in lines)\n",
    "current_line=0\n",
    "gear_ratios=[]\n",
    "\n",
    "while current_line < line_amount +1:\n",
    "    current_line += 1\n",
    "\n",
    "    line3 = line2\n",
    "    line2 = line1\n",
    "    line1 = lines[current_line-1] if current_line != line_amount + 1 else \"...\"\n",
    "    \n",
    "    for charindex, char in enumerate(line2):\n",
    "        charpos = charindex+1\n",
    "        if char == \"*\":\n",
    "\n",
    "            current_gear=None\n",
    "            adjacent_numbers = [] \n",
    "            for match in re.finditer(r'\\d+', line1):\n",
    "                if match.span()[0]+1 in range(charpos-1, charpos+2) or match.span()[1] in range(charpos-1, charpos+2):\n",
    "                    adjacent_numbers.append(int(match[0]))\n",
    "\n",
    "            for match in re.finditer(r'\\d+', line2):\n",
    "                if match.span()[0] == charpos or match.span()[1]+1 == charpos:\n",
    "                    adjacent_numbers.append(int(match[0]))\n",
    "\n",
    "            for match in re.finditer(r'\\d+', line3):\n",
    "                if match.span()[0]+1 in range(charpos-1, charpos+2) or match.span()[1] in range(charpos-1, charpos+2):\n",
    "                    adjacent_numbers.append(int(match[0]))\n",
    "\n",
    "            if sum(1 for n in adjacent_numbers) == 2:\n",
    "                current_gear = {\n",
    "                    \"line\":current_line,\n",
    "                    \"index\":charindex,\n",
    "                    \"adjacent_numbers\":adjacent_numbers,\n",
    "                    \"gear_ratio\":adjacent_numbers[0]*adjacent_numbers[1]\n",
    "                }\n",
    "                if current_gear not in gear_ratios:\n",
    "                    gear_ratios.append(current_gear) \n",
    "                    "
   ],
   "metadata": {
    "collapsed": false,
    "ExecuteTime": {
     "end_time": "2023-12-03T19:43:07.311307900Z",
     "start_time": "2023-12-03T19:43:07.293075300Z"
    }
   },
   "id": "f4278317dc97de1c"
  },
  {
   "cell_type": "code",
   "execution_count": 72,
   "outputs": [
    {
     "name": "stdout",
     "output_type": "stream",
     "text": [
      "84907174\n"
     ]
    }
   ],
   "source": [
    "ratio_sum=0\n",
    "for ratio in gear_ratios:\n",
    "    ratio_sum = ratio_sum + ratio['gear_ratio']\n",
    "print(ratio_sum)"
   ],
   "metadata": {
    "collapsed": false,
    "ExecuteTime": {
     "end_time": "2023-12-03T19:43:07.316819800Z",
     "start_time": "2023-12-03T19:43:07.310305200Z"
    }
   },
   "id": "d24c210641ebad5b"
  }
 ],
 "metadata": {
  "kernelspec": {
   "display_name": "Python 3",
   "language": "python",
   "name": "python3"
  },
  "language_info": {
   "codemirror_mode": {
    "name": "ipython",
    "version": 2
   },
   "file_extension": ".py",
   "mimetype": "text/x-python",
   "name": "python",
   "nbconvert_exporter": "python",
   "pygments_lexer": "ipython2",
   "version": "2.7.6"
  }
 },
 "nbformat": 4,
 "nbformat_minor": 5
}
