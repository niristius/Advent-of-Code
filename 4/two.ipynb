{
 "cells": [
  {
   "cell_type": "code",
   "execution_count": 8,
   "id": "initial_id",
   "metadata": {
    "collapsed": true,
    "ExecuteTime": {
     "end_time": "2023-12-04T10:29:52.718456Z",
     "start_time": "2023-12-04T10:29:52.696897Z"
    }
   },
   "outputs": [],
   "source": [
    "import regex as re\n",
    "import uuid"
   ]
  },
  {
   "cell_type": "code",
   "execution_count": 9,
   "outputs": [],
   "source": [
    "with open('scratchcards.txt', 'r') as game_record:\n",
    "    lines = list(line for line in (line.rstrip() for line in game_record.readlines()) if line)"
   ],
   "metadata": {
    "collapsed": false,
    "ExecuteTime": {
     "end_time": "2023-12-04T10:29:52.720453Z",
     "start_time": "2023-12-04T10:29:52.702744Z"
    }
   },
   "id": "9245a33f3655d0e5"
  },
  {
   "cell_type": "code",
   "execution_count": 10,
   "outputs": [],
   "source": [
    "card_number_pattern = r'Card\\s+(?P<card_number>[0-9]{1,3}):\\s'"
   ],
   "metadata": {
    "collapsed": false,
    "ExecuteTime": {
     "end_time": "2023-12-04T10:29:52.720507Z",
     "start_time": "2023-12-04T10:29:52.706398Z"
    }
   },
   "id": "387b61874d7dce8f"
  },
  {
   "cell_type": "code",
   "execution_count": 11,
   "outputs": [],
   "source": [
    "cards_lookup = []\n",
    "for line in lines:\n",
    "    number_matches = []\n",
    "    card_number = re.search(card_number_pattern, line)['card_number']\n",
    "    numbers = re.sub(card_number_pattern, '', line).split('|')\n",
    "    winning_numbers = list(num for num in re.findall(r'\\d+', numbers[0].lstrip()))\n",
    "    draw_numbers = list(num for num in re.findall(r'\\d+', numbers[1].lstrip()))\n",
    "    for drawnum in draw_numbers: \n",
    "        if drawnum in winning_numbers:\n",
    "            number_matches.append(drawnum)\n",
    "    current_card = {\n",
    "        \"cardnum\":card_number,\n",
    "        \"winning_numbers\":winning_numbers,\n",
    "        \"draw_numbers\":draw_numbers,\n",
    "        \"matches\":len(number_matches)\n",
    "    }\n",
    "    cards_lookup.append(current_card) "
   ],
   "metadata": {
    "collapsed": false,
    "ExecuteTime": {
     "end_time": "2023-12-04T10:29:52.724881Z",
     "start_time": "2023-12-04T10:29:52.709609Z"
    }
   },
   "id": "6eadf2349e844913"
  },
  {
   "cell_type": "code",
   "execution_count": 12,
   "outputs": [],
   "source": [
    "inventory = list({\"id\":str(uuid.uuid4()),\"cardnum\":card, \"processed\":False} for card in range (1, sum(1 for line in lines)+1))"
   ],
   "metadata": {
    "collapsed": false,
    "ExecuteTime": {
     "end_time": "2023-12-04T10:29:52.913883Z",
     "start_time": "2023-12-04T10:29:52.912613Z"
    }
   },
   "id": "f12ed02f61c90637"
  },
  {
   "cell_type": "code",
   "execution_count": null,
   "outputs": [],
   "source": [
    "while any(card[\"processed\"] == False for card in inventory):\n",
    "    for idx, card in enumerate(inventory):\n",
    "        if card[\"processed\"] == True:\n",
    "            continue\n",
    "        for card_lookup in cards_lookup:\n",
    "            if int(card_lookup['cardnum']) == int(card['cardnum']):\n",
    "                matches = card_lookup['matches']\n",
    "        for i in range (card['cardnum'], int(card['cardnum'])+matches):\n",
    "            if i+1 <= len(cards_lookup):\n",
    "                new_card = {\"id\":str(uuid.uuid4()),\"cardnum\":i+1, \"processed\":False}\n",
    "                inventory.append(new_card)\n",
    "        card[\"processed\"] = True\n",
    "        inventory[idx] = card"
   ],
   "metadata": {
    "collapsed": false,
    "is_executing": true,
    "ExecuteTime": {
     "start_time": "2023-12-04T10:29:52.915363Z"
    }
   },
   "id": "d909c155a5668abc"
  },
  {
   "cell_type": "code",
   "execution_count": null,
   "outputs": [],
   "source": [
    "print(len(inventory))"
   ],
   "metadata": {
    "collapsed": false,
    "is_executing": true
   },
   "id": "dc4a5b6e91e25c5d"
  }
 ],
 "metadata": {
  "kernelspec": {
   "display_name": "Python 3",
   "language": "python",
   "name": "python3"
  },
  "language_info": {
   "codemirror_mode": {
    "name": "ipython",
    "version": 2
   },
   "file_extension": ".py",
   "mimetype": "text/x-python",
   "name": "python",
   "nbconvert_exporter": "python",
   "pygments_lexer": "ipython2",
   "version": "2.7.6"
  }
 },
 "nbformat": 4,
 "nbformat_minor": 5
}
