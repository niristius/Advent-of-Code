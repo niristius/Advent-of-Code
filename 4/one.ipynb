{
 "cells": [
  {
   "cell_type": "code",
   "execution_count": 1,
   "id": "initial_id",
   "metadata": {
    "collapsed": true,
    "ExecuteTime": {
     "end_time": "2023-12-04T08:28:29.654701Z",
     "start_time": "2023-12-04T08:28:29.632899Z"
    }
   },
   "outputs": [],
   "source": [
    "import regex as re"
   ]
  },
  {
   "cell_type": "code",
   "execution_count": 2,
   "outputs": [],
   "source": [
    "with open('scratchcards.txt', 'r') as game_record:\n",
    "    lines = list(line for line in (line.rstrip() for line in game_record.readlines()) if line)"
   ],
   "metadata": {
    "collapsed": false,
    "ExecuteTime": {
     "end_time": "2023-12-04T08:28:29.658698Z",
     "start_time": "2023-12-04T08:28:29.655883Z"
    }
   },
   "id": "9245a33f3655d0e5"
  },
  {
   "cell_type": "code",
   "execution_count": 3,
   "outputs": [],
   "source": [
    "card_number_pattern = r'Card\\s+(?P<card_number>[0-9]{1,3}):\\s'"
   ],
   "metadata": {
    "collapsed": false,
    "ExecuteTime": {
     "end_time": "2023-12-04T08:28:29.661100Z",
     "start_time": "2023-12-04T08:28:29.658980Z"
    }
   },
   "id": "387b61874d7dce8f"
  },
  {
   "cell_type": "code",
   "execution_count": 4,
   "outputs": [],
   "source": [
    "card_values = []\n",
    "for line in lines:\n",
    "    card_number = re.search(card_number_pattern, line)['card_number']\n",
    "    numbers = re.sub(card_number_pattern, '', line).split('|')\n",
    "    winning_numbers = list(num for num in re.findall(r'\\d+', numbers[0].lstrip()))\n",
    "    draw_numbers = list(num for num in re.findall(r'\\d+', numbers[1].lstrip()))\n",
    "    number_matches = []\n",
    "    \n",
    "    for drawnum in draw_numbers: \n",
    "        if drawnum in winning_numbers:\n",
    "            number_matches.append(drawnum)\n",
    "    \n",
    "    if len(number_matches) == 1:\n",
    "        card_value = 1\n",
    "    elif len(number_matches) > 1:\n",
    "        card_value = pow(2, (len(number_matches)-1))\n",
    "    else:\n",
    "        card_value = 0\n",
    "        \n",
    "    card_values.append(card_value)\n",
    "        "
   ],
   "metadata": {
    "collapsed": false,
    "ExecuteTime": {
     "end_time": "2023-12-04T08:28:29.668859Z",
     "start_time": "2023-12-04T08:28:29.662653Z"
    }
   },
   "id": "6eadf2349e844913"
  },
  {
   "cell_type": "code",
   "execution_count": 5,
   "outputs": [
    {
     "name": "stdout",
     "output_type": "stream",
     "text": [
      "27059\n"
     ]
    }
   ],
   "source": [
    "print(sum(card_values))"
   ],
   "metadata": {
    "collapsed": false,
    "ExecuteTime": {
     "end_time": "2023-12-04T08:28:29.673637Z",
     "start_time": "2023-12-04T08:28:29.669905Z"
    }
   },
   "id": "dc4a5b6e91e25c5d"
  }
 ],
 "metadata": {
  "kernelspec": {
   "display_name": "Python 3",
   "language": "python",
   "name": "python3"
  },
  "language_info": {
   "codemirror_mode": {
    "name": "ipython",
    "version": 2
   },
   "file_extension": ".py",
   "mimetype": "text/x-python",
   "name": "python",
   "nbconvert_exporter": "python",
   "pygments_lexer": "ipython2",
   "version": "2.7.6"
  }
 },
 "nbformat": 4,
 "nbformat_minor": 5
}
