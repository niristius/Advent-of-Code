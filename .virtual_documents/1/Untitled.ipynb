import re, sys

units = ["zero", "one", "two", "three", "four", "five", "six", "seven", "eight", "nine"]
pattern = "zero|one|two|three|four|five|six|seven|eight|nine"
numbers = []



with open('inputtest.txt', 'r') as input:
    lines = input.readlines()
    lines = (line.rstrip() for line in lines)
    lines = (line for line in lines if line)


for line in lines:
    literalnums = {}
    matches = [(m.start(0), m.end(0)) for m in re.finditer(pattern, line)]




